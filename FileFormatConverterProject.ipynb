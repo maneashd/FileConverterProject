{
 "cells": [
  {
   "cell_type": "markdown",
   "metadata": {},
   "source": [
    "1. Import glob to get all file paths from the source data folder which is retail_db"
   ]
  },
  {
   "cell_type": "code",
   "execution_count": 2,
   "metadata": {},
   "outputs": [
    {
     "name": "stdout",
     "output_type": "stream",
     "text": [
      "['Priject 1 - File Format Converter/data/retail_db\\\\categories\\\\part-00000', 'Priject 1 - File Format Converter/data/retail_db\\\\customers\\\\part-00000', 'Priject 1 - File Format Converter/data/retail_db\\\\departments\\\\part-00000', 'Priject 1 - File Format Converter/data/retail_db\\\\orders\\\\part-00000', 'Priject 1 - File Format Converter/data/retail_db\\\\order_items\\\\part-00000', 'Priject 1 - File Format Converter/data/retail_db\\\\products\\\\part-00000']\n"
     ]
    }
   ],
   "source": [
    "import glob\n",
    "src_file_name = glob.glob('Priject 1 - File Format Converter/data/retail_db/*/part-*')\n",
    "print(src_file_name)"
   ]
  },
  {
   "cell_type": "markdown",
   "metadata": {},
   "source": [
    "2. Import re, i.e regular expression to split the file paths inorder to get the folder name and file name, by iterating the list."
   ]
  },
  {
   "cell_type": "code",
   "execution_count": 3,
   "metadata": {},
   "outputs": [
    {
     "name": "stdout",
     "output_type": "stream",
     "text": [
      "['Priject 1 - File Format Converter', 'data', 'retail_db', 'categories', 'part-00000']\n",
      "['Priject 1 - File Format Converter', 'data', 'retail_db', 'customers', 'part-00000']\n",
      "['Priject 1 - File Format Converter', 'data', 'retail_db', 'departments', 'part-00000']\n",
      "['Priject 1 - File Format Converter', 'data', 'retail_db', 'orders', 'part-00000']\n",
      "['Priject 1 - File Format Converter', 'data', 'retail_db', 'order_items', 'part-00000']\n",
      "['Priject 1 - File Format Converter', 'data', 'retail_db', 'products', 'part-00000']\n"
     ]
    },
    {
     "name": "stderr",
     "output_type": "stream",
     "text": [
      "<>:3: SyntaxWarning: invalid escape sequence '\\]'\n",
      "<>:3: SyntaxWarning: invalid escape sequence '\\]'\n",
      "C:\\Users\\manis\\AppData\\Local\\Temp\\ipykernel_20788\\2816162841.py:3: SyntaxWarning: invalid escape sequence '\\]'\n",
      "  file_path_list = re.split('[/\\\\\\]', file)\n"
     ]
    }
   ],
   "source": [
    "import re\n",
    "for file in src_file_name:\n",
    "    file_path_list = re.split('[/\\\\\\]', file)\n",
    "    print(file_path_list)"
   ]
  },
  {
   "cell_type": "markdown",
   "metadata": {},
   "source": [
    "3. Create a base directory variable and create file paths for target location"
   ]
  },
  {
   "cell_type": "code",
   "execution_count": 4,
   "metadata": {},
   "outputs": [],
   "source": [
    "base_dir = 'Priject 1 - File Format Converter/data/retail_db_json'"
   ]
  },
  {
   "cell_type": "code",
   "execution_count": 5,
   "metadata": {},
   "outputs": [
    {
     "name": "stdout",
     "output_type": "stream",
     "text": [
      "Priject 1 - File Format Converter/data/retail_db_json/categories/part-00000\n",
      "Priject 1 - File Format Converter/data/retail_db_json/customers/part-00000\n",
      "Priject 1 - File Format Converter/data/retail_db_json/departments/part-00000\n",
      "Priject 1 - File Format Converter/data/retail_db_json/orders/part-00000\n",
      "Priject 1 - File Format Converter/data/retail_db_json/order_items/part-00000\n",
      "Priject 1 - File Format Converter/data/retail_db_json/products/part-00000\n"
     ]
    },
    {
     "name": "stderr",
     "output_type": "stream",
     "text": [
      "<>:2: SyntaxWarning: invalid escape sequence '\\]'\n",
      "<>:2: SyntaxWarning: invalid escape sequence '\\]'\n",
      "C:\\Users\\manis\\AppData\\Local\\Temp\\ipykernel_20788\\3347441774.py:2: SyntaxWarning: invalid escape sequence '\\]'\n",
      "  file_path_list = re.split('[/\\\\\\]', file)\n"
     ]
    }
   ],
   "source": [
    "for file in src_file_name:\n",
    "    file_path_list = re.split('[/\\\\\\]', file)\n",
    "    ds_name = file_path_list[-2]\n",
    "    file_name = file_path_list[-1]\n",
    "    json_file_path = f'{base_dir}/{ds_name}/{file_name}'\n",
    "    print(json_file_path)"
   ]
  },
  {
   "cell_type": "markdown",
   "metadata": {},
   "source": [
    "4. Create a function that will get column names from available schema.json file."
   ]
  },
  {
   "cell_type": "code",
   "execution_count": 6,
   "metadata": {},
   "outputs": [],
   "source": [
    "import json\n",
    "\n",
    "def get_column_names(schemas, ds_name, sorting_key='column_position'):\n",
    "    column_details = schemas[ds_name]\n",
    "    columns = sorted(column_details, key=lambda col: col[sorting_key])\n",
    "    return [col['column_name'] for col in columns]\n",
    "\n",
    "schemas = json.load(open('Priject 1 - File Format Converter/data/retail_db/schemas.json'))"
   ]
  },
  {
   "cell_type": "markdown",
   "metadata": {},
   "source": [
    "5. Apply all above steps to all the files in source using FOR LOOP. And read source data into pandas dataframes."
   ]
  },
  {
   "cell_type": "code",
   "execution_count": 7,
   "metadata": {},
   "outputs": [
    {
     "name": "stderr",
     "output_type": "stream",
     "text": [
      "<>:5: SyntaxWarning: invalid escape sequence '\\]'\n",
      "<>:5: SyntaxWarning: invalid escape sequence '\\]'\n",
      "C:\\Users\\manis\\AppData\\Local\\Temp\\ipykernel_20788\\1599426843.py:5: SyntaxWarning: invalid escape sequence '\\]'\n",
      "  file_path_list = re.split('[/\\\\\\]', file)\n"
     ]
    },
    {
     "name": "stdout",
     "output_type": "stream",
     "text": [
      "Processing Priject 1 - File Format Converter/data/retail_db\\categories\\part-00000\n",
      "Shape of categories is (58, 3)\n",
      "Processing Priject 1 - File Format Converter/data/retail_db\\customers\\part-00000\n",
      "Shape of customers is (12435, 9)\n",
      "Processing Priject 1 - File Format Converter/data/retail_db\\departments\\part-00000\n",
      "Shape of departments is (6, 2)\n",
      "Processing Priject 1 - File Format Converter/data/retail_db\\orders\\part-00000\n",
      "Shape of orders is (68883, 4)\n",
      "Processing Priject 1 - File Format Converter/data/retail_db\\order_items\\part-00000\n",
      "Shape of order_items is (172198, 6)\n",
      "Processing Priject 1 - File Format Converter/data/retail_db\\products\\part-00000\n",
      "Shape of products is (1345, 6)\n"
     ]
    }
   ],
   "source": [
    "import pandas as pd\n",
    "\n",
    "for file in src_file_name:\n",
    "    print(f'Processing {file}')\n",
    "    file_path_list = re.split('[/\\\\\\]', file)\n",
    "    ds_name = file_path_list[-2]\n",
    "    columns = get_column_names(schemas, ds_name)\n",
    "    df = pd.read_csv(file, names=columns)\n",
    "    print(f'Shape of {ds_name} is {df.shape}')"
   ]
  },
  {
   "cell_type": "markdown",
   "metadata": {},
   "source": [
    "5. FINAL EXECUTION\n",
    "\n",
    "Import os to create target location.\n",
    "Iterate through all the source file names, split the path using re, get the column names by calling function. Import pandas to create dataframe and read the source csv data. Use the dataframe to erite data back to target location in json format."
   ]
  },
  {
   "cell_type": "code",
   "execution_count": 11,
   "metadata": {},
   "outputs": [
    {
     "name": "stderr",
     "output_type": "stream",
     "text": [
      "<>:6: SyntaxWarning: invalid escape sequence '\\]'\n",
      "<>:6: SyntaxWarning: invalid escape sequence '\\]'\n",
      "C:\\Users\\manis\\AppData\\Local\\Temp\\ipykernel_20788\\4080681578.py:6: SyntaxWarning: invalid escape sequence '\\]'\n",
      "  file_path_list = re.split('[/\\\\\\]', file)\n"
     ]
    },
    {
     "name": "stdout",
     "output_type": "stream",
     "text": [
      "Processing Priject 1 - File Format Converter/data/retail_db\\categories\\part-00000\n",
      "File loaded to: Priject 1 - File Format Converter/data/retail_db_json/categories\n",
      "Processing Priject 1 - File Format Converter/data/retail_db\\customers\\part-00000\n",
      "File loaded to: Priject 1 - File Format Converter/data/retail_db_json/customers\n",
      "Processing Priject 1 - File Format Converter/data/retail_db\\departments\\part-00000\n",
      "File loaded to: Priject 1 - File Format Converter/data/retail_db_json/departments\n",
      "Processing Priject 1 - File Format Converter/data/retail_db\\orders\\part-00000\n",
      "File loaded to: Priject 1 - File Format Converter/data/retail_db_json/orders\n",
      "Processing Priject 1 - File Format Converter/data/retail_db\\order_items\\part-00000\n",
      "File loaded to: Priject 1 - File Format Converter/data/retail_db_json/order_items\n",
      "Processing Priject 1 - File Format Converter/data/retail_db\\products\\part-00000\n",
      "File loaded to: Priject 1 - File Format Converter/data/retail_db_json/products\n"
     ]
    }
   ],
   "source": [
    "import os\n",
    "\n",
    "tgt_base_dir = 'Priject 1 - File Format Converter/data/retail_db_json'\n",
    "for file in src_file_name:\n",
    "    print(f'Processing {file}')\n",
    "    file_path_list = re.split('[/\\\\\\]', file)\n",
    "    ds_name = file_path_list[-2]\n",
    "    file_name = file_path_list[-1]\n",
    "    json_file_path = f'{tgt_base_dir}/{ds_name}/{file_name}'\n",
    "    columns = get_column_names(schemas, ds_name)\n",
    "    df = pd.read_csv(file, names=columns)\n",
    "    os.makedirs(f'{tgt_base_dir}/{ds_name}', exist_ok=True)\n",
    "    df.to_json(\n",
    "        json_file_path,\n",
    "        orient='records',\n",
    "        lines=True\n",
    "    )\n",
    "    print(f'File loaded to: {tgt_base_dir}/{ds_name}')"
   ]
  },
  {
   "cell_type": "code",
   "execution_count": null,
   "metadata": {},
   "outputs": [],
   "source": []
  }
 ],
 "metadata": {
  "kernelspec": {
   "display_name": "pr-venv",
   "language": "python",
   "name": "python3"
  },
  "language_info": {
   "codemirror_mode": {
    "name": "ipython",
    "version": 3
   },
   "file_extension": ".py",
   "mimetype": "text/x-python",
   "name": "python",
   "nbconvert_exporter": "python",
   "pygments_lexer": "ipython3",
   "version": "3.12.0"
  }
 },
 "nbformat": 4,
 "nbformat_minor": 2
}
